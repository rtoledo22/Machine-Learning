{
 "cells": [
  {
   "cell_type": "markdown",
   "id": "2006ce98",
   "metadata": {},
   "source": [
    "The dataset I'm using is called water_potability, which essentially tries to determine whether or not a specific body of water is a viable source for drinking water based on a number of factors, one of which include pH (though the dataset is broken and has some nulls for that column, and I don't want to ruin the dataset by inputting a random value or putting zeros everywhere).\n",
    "\n",
    "It is being classified based on whether a specific body of water is a viable drinking source of water, with 0 meaning no and 1 meaning yes. The features I'm using are the hardness of the water (the capacity of water to precipitate soap in mg/L) and the solids (total dissolved solids in ppm). \n",
    "\n",
    "In terms of the classifiers I used, I used two of the classifiers used in the example notebook, the KNeighborsClassifier and the DecisionTreeClassifier. The only thing that's changed is instead of using the Perceptron, I've used a Stochastic Gradient Descent instead. For the first ensembles set, I've set SGD to max_iter = 100 and tol = 1e-3, I've set DecisionTree to max_depth = 6, and I've set KNeighbors to n_neighbors = 20 and p = 3. For the second ensembles set, I've set SGD to max_iter = 1000 and tol = 1e-3, I've set DecisionTree to max_depth = 12, and I've set KNeighbors to n_neighbors = 40 and p = 6.\n",
    "\n",
    "For both cross-validation attempts, the decision tree was the most accurate across the board, even more so compared to using a Majority Voting model. The standard deviation was highest for the SGDClassifier, though that may be due to its nature using a certain number of iterations as a parameter. Due to its higher standard deviation, it may explain why SGD across both cross-validation attempts had a lower accuracy, even at 10 times as many iterations. \n",
    "\n",
    "For both attempts at testing the testing data, the voting classifier actually did worse than the SGD\" in the first ensembles set in terms of accuracy, but did slightly better than it on the second set. With the second ensemble set parameters, the individual classifiers were much more... volatile? than their first ensemble counterparts, leading to interesting variance especially in the standard deviation (i.e. DecisionTree was .097 vs a .139 during one test). Overall, the standard deviation of the voting classifier was higher than that of the individual classifiers, and its accuracy was higher than the individual classifiers overall."
   ]
  },
  {
   "cell_type": "code",
   "execution_count": 8,
   "id": "f2ad7ff2",
   "metadata": {},
   "outputs": [],
   "source": [
    "import numpy as np\n",
    "from sklearn.preprocessing import StandardScaler\n",
    "from sklearn.linear_model import SGDClassifier\n",
    "from sklearn.tree import DecisionTreeClassifier\n",
    "from sklearn.neighbors import KNeighborsClassifier \n",
    "from sklearn.pipeline import make_pipeline\n",
    "from sklearn.model_selection import cross_val_score\n",
    "\n",
    "from sklearn.model_selection import train_test_split"
   ]
  },
  {
   "cell_type": "code",
   "execution_count": 2,
   "id": "7d0320ad",
   "metadata": {},
   "outputs": [
    {
     "name": "stdout",
     "output_type": "stream",
     "text": [
      "From URL: water_potability.csv\n"
     ]
    },
    {
     "data": {
      "text/html": [
       "<div>\n",
       "<style scoped>\n",
       "    .dataframe tbody tr th:only-of-type {\n",
       "        vertical-align: middle;\n",
       "    }\n",
       "\n",
       "    .dataframe tbody tr th {\n",
       "        vertical-align: top;\n",
       "    }\n",
       "\n",
       "    .dataframe thead th {\n",
       "        text-align: right;\n",
       "    }\n",
       "</style>\n",
       "<table border=\"1\" class=\"dataframe\">\n",
       "  <thead>\n",
       "    <tr style=\"text-align: right;\">\n",
       "      <th></th>\n",
       "      <th>0</th>\n",
       "      <th>1</th>\n",
       "      <th>2</th>\n",
       "      <th>3</th>\n",
       "      <th>4</th>\n",
       "      <th>5</th>\n",
       "      <th>6</th>\n",
       "      <th>7</th>\n",
       "      <th>8</th>\n",
       "      <th>9</th>\n",
       "    </tr>\n",
       "  </thead>\n",
       "  <tbody>\n",
       "    <tr>\n",
       "      <th>3272</th>\n",
       "      <td>4.668101687405915</td>\n",
       "      <td>193.68173547507868</td>\n",
       "      <td>47580.99160333534</td>\n",
       "      <td>7.166638935482532</td>\n",
       "      <td>359.94857436696</td>\n",
       "      <td>526.4241709223593</td>\n",
       "      <td>13.894418518194527</td>\n",
       "      <td>66.68769478539706</td>\n",
       "      <td>4.4358209095098</td>\n",
       "      <td>1</td>\n",
       "    </tr>\n",
       "    <tr>\n",
       "      <th>3273</th>\n",
       "      <td>7.8088560175574155</td>\n",
       "      <td>193.55321164822675</td>\n",
       "      <td>17329.802160103376</td>\n",
       "      <td>8.061361987849569</td>\n",
       "      <td>NaN</td>\n",
       "      <td>392.4495795653845</td>\n",
       "      <td>19.90322518345954</td>\n",
       "      <td>NaN</td>\n",
       "      <td>2.7982428424180505</td>\n",
       "      <td>1</td>\n",
       "    </tr>\n",
       "    <tr>\n",
       "      <th>3274</th>\n",
       "      <td>9.41951031641321</td>\n",
       "      <td>175.76264629629543</td>\n",
       "      <td>33155.578218312294</td>\n",
       "      <td>7.350233233214412</td>\n",
       "      <td>NaN</td>\n",
       "      <td>432.04478304536786</td>\n",
       "      <td>11.039069688154314</td>\n",
       "      <td>69.84540029205144</td>\n",
       "      <td>3.298875498646556</td>\n",
       "      <td>1</td>\n",
       "    </tr>\n",
       "    <tr>\n",
       "      <th>3275</th>\n",
       "      <td>5.1267629233515315</td>\n",
       "      <td>230.60375750846123</td>\n",
       "      <td>11983.869376336363</td>\n",
       "      <td>6.303356534249105</td>\n",
       "      <td>NaN</td>\n",
       "      <td>402.883113121781</td>\n",
       "      <td>11.168946221056501</td>\n",
       "      <td>77.48821310275477</td>\n",
       "      <td>4.708658467526655</td>\n",
       "      <td>1</td>\n",
       "    </tr>\n",
       "    <tr>\n",
       "      <th>3276</th>\n",
       "      <td>7.874671357791283</td>\n",
       "      <td>195.10229858610904</td>\n",
       "      <td>17404.17706105066</td>\n",
       "      <td>7.509305856927908</td>\n",
       "      <td>NaN</td>\n",
       "      <td>327.4597604610721</td>\n",
       "      <td>16.140367626166324</td>\n",
       "      <td>78.69844632549504</td>\n",
       "      <td>2.309149056634923</td>\n",
       "      <td>1</td>\n",
       "    </tr>\n",
       "  </tbody>\n",
       "</table>\n",
       "</div>"
      ],
      "text/plain": [
       "                       0                   1                   2  \\\n",
       "3272   4.668101687405915  193.68173547507868   47580.99160333534   \n",
       "3273  7.8088560175574155  193.55321164822675  17329.802160103376   \n",
       "3274    9.41951031641321  175.76264629629543  33155.578218312294   \n",
       "3275  5.1267629233515315  230.60375750846123  11983.869376336363   \n",
       "3276   7.874671357791283  195.10229858610904   17404.17706105066   \n",
       "\n",
       "                      3                4                   5  \\\n",
       "3272  7.166638935482532  359.94857436696   526.4241709223593   \n",
       "3273  8.061361987849569              NaN   392.4495795653845   \n",
       "3274  7.350233233214412              NaN  432.04478304536786   \n",
       "3275  6.303356534249105              NaN    402.883113121781   \n",
       "3276  7.509305856927908              NaN   327.4597604610721   \n",
       "\n",
       "                       6                  7                   8  9  \n",
       "3272  13.894418518194527  66.68769478539706     4.4358209095098  1  \n",
       "3273   19.90322518345954                NaN  2.7982428424180505  1  \n",
       "3274  11.039069688154314  69.84540029205144   3.298875498646556  1  \n",
       "3275  11.168946221056501  77.48821310275477   4.708658467526655  1  \n",
       "3276  16.140367626166324  78.69844632549504   2.309149056634923  1  "
      ]
     },
     "execution_count": 2,
     "metadata": {},
     "output_type": "execute_result"
    }
   ],
   "source": [
    "import os\n",
    "import pandas as pd\n",
    "\n",
    "try:\n",
    "    s = 'water_potability.csv'\n",
    "\n",
    "    print('From URL:', s)\n",
    "    df = pd.read_csv(s,\n",
    "                     header=None,\n",
    "                     encoding='utf-8')\n",
    "#   print (df[0:50])\n",
    "    \n",
    "except HTTPError:\n",
    "    s = 'iris.data'\n",
    "    df = pd.read_csv(s,\n",
    "                     header=None,\n",
    "                     encoding='utf-8')\n",
    "    \n",
    "df.tail()"
   ]
  },
  {
   "cell_type": "code",
   "execution_count": 3,
   "id": "e2d54f0b",
   "metadata": {},
   "outputs": [],
   "source": [
    "y =  df.iloc[1:501, 9].values\n",
    "X = df.iloc[1:501, [1, 2]]\n",
    "X = X.astype(float)\n",
    "X_train, X_test, y_train, y_test =\\\n",
    "        train_test_split(X, y, test_size=0.3, random_state=1, stratify=y)"
   ]
  },
  {
   "cell_type": "code",
   "execution_count": 4,
   "id": "018c7941",
   "metadata": {},
   "outputs": [
    {
     "name": "stdout",
     "output_type": "stream",
     "text": [
      "10-fold cross validation:\n",
      "\n",
      "Accuracy: 0.63 Stdev: 0.12 [SGD]\n",
      "Accuracy: 0.68 Stdev: 0.048 [Decision tree]\n",
      "Accuracy: 0.67 Stdev: 0.034 [KNN]\n"
     ]
    }
   ],
   "source": [
    "pipe1 = make_pipeline(StandardScaler(), SGDClassifier(max_iter = 100, tol = 1e-3))\n",
    "\n",
    "pipe2 = make_pipeline(DecisionTreeClassifier(max_depth=6,\n",
    "                                             criterion='entropy',\n",
    "                                             random_state=0))\n",
    "\n",
    "pipe3 = make_pipeline(StandardScaler(), KNeighborsClassifier(n_neighbors=20,\n",
    "                                                             p=3,\n",
    "                                                             metric='minkowski'))\n",
    "\n",
    "clf_labels = ['SGD', 'Decision tree', 'KNN']\n",
    "\n",
    "print('10-fold cross validation:\\n')\n",
    "for clf, label in zip([pipe1, pipe2, pipe3], clf_labels):\n",
    "    scores = cross_val_score(estimator=clf,\n",
    "                             X=X_train,\n",
    "                             y=y_train,\n",
    "                             cv=10,\n",
    "                             scoring='accuracy')\n",
    "    print(\"Accuracy: \" + str(round(scores.mean(), 2)) + \n",
    "          \" Stdev: \" + str(round(scores.std(), 3)) +\n",
    "          \" [\" + label + \"]\")"
   ]
  },
  {
   "cell_type": "code",
   "execution_count": 5,
   "id": "efdd49f4",
   "metadata": {},
   "outputs": [
    {
     "name": "stdout",
     "output_type": "stream",
     "text": [
      "Accuracy: 0.66 Stdev: 0.072 [SGD]\n",
      "Accuracy: 0.68 Stdev: 0.048 [Decision tree]\n",
      "Accuracy: 0.67 Stdev: 0.034 [KNN]\n",
      "Accuracy: 0.68 Stdev: 0.042 [Majority voting]\n"
     ]
    }
   ],
   "source": [
    "from sklearn.ensemble import VotingClassifier\n",
    "\n",
    "mv_clf = VotingClassifier(estimators=[('sgd', pipe1), ('dt', pipe2), ('kn', pipe3)])\n",
    "\n",
    "clf_labels += ['Majority voting']\n",
    "all_clf = [pipe1, pipe2, pipe3, mv_clf]\n",
    "\n",
    "for clf, label in zip(all_clf, clf_labels):\n",
    "    scores = cross_val_score(estimator=clf,\n",
    "                             X=X_train,\n",
    "                             y=y_train,\n",
    "                             cv=10,\n",
    "                             scoring='accuracy')\n",
    "    print(\"Accuracy: \" + str(round(scores.mean(), 2)) + \n",
    "          \" Stdev: \" + str(round(scores.std(), 3)) +\n",
    "          \" [\" + label + \"]\")"
   ]
  },
  {
   "cell_type": "code",
   "execution_count": 6,
   "id": "11394360",
   "metadata": {},
   "outputs": [
    {
     "name": "stdout",
     "output_type": "stream",
     "text": [
      "10-fold cross validation:\n",
      "\n",
      "Accuracy: 0.59 Stdev: 0.085 [SGD]\n",
      "Accuracy: 0.68 Stdev: 0.048 [Decision tree]\n",
      "Accuracy: 0.67 Stdev: 0.034 [KNN]\n"
     ]
    }
   ],
   "source": [
    "pipe4 = make_pipeline(StandardScaler(), SGDClassifier(max_iter = 1000, tol = 1e-3))\n",
    "\n",
    "pipe5 = make_pipeline(DecisionTreeClassifier(max_depth=12,\n",
    "                                             criterion='entropy',\n",
    "                                             random_state=0))\n",
    "\n",
    "pipe6 = make_pipeline(StandardScaler(), KNeighborsClassifier(n_neighbors=40,\n",
    "                                                             p=6,\n",
    "                                                             metric='minkowski'))\n",
    "\n",
    "clf2_labels = ['SGD', 'Decision tree', 'KNN']\n",
    "\n",
    "print('10-fold cross validation:\\n')\n",
    "for clf, label in zip([pipe1, pipe2, pipe3], clf_labels):\n",
    "    scores = cross_val_score(estimator=clf,\n",
    "                             X=X_train,\n",
    "                             y=y_train,\n",
    "                             cv=10,\n",
    "                             scoring='accuracy')\n",
    "    print(\"Accuracy: \" + str(round(scores.mean(), 2)) + \n",
    "          \" Stdev: \" + str(round(scores.std(), 3)) +\n",
    "          \" [\" + label + \"]\")"
   ]
  },
  {
   "cell_type": "code",
   "execution_count": 7,
   "id": "241678ba",
   "metadata": {},
   "outputs": [
    {
     "name": "stdout",
     "output_type": "stream",
     "text": [
      "Accuracy: 0.68 Stdev: 0.054 [SGD]\n",
      "Accuracy: 0.62 Stdev: 0.056 [Decision tree]\n",
      "Accuracy: 0.68 Stdev: 0.013 [KNN]\n",
      "Accuracy: 0.66 Stdev: 0.042 [Majority voting]\n"
     ]
    }
   ],
   "source": [
    "mv_clf2 = VotingClassifier(estimators=[('sgd', pipe4), ('dt', pipe5), ('kn', pipe6)])\n",
    "\n",
    "clf2_labels += ['Majority voting']\n",
    "all_clf2 = [pipe4, pipe5, pipe6, mv_clf2]\n",
    "\n",
    "for clf, label in zip(all_clf2, clf2_labels):\n",
    "    scores = cross_val_score(estimator=clf,\n",
    "                             X=X_train,\n",
    "                             y=y_train,\n",
    "                             cv=10,\n",
    "                             scoring='accuracy')\n",
    "    print(\"Accuracy: \" + str(round(scores.mean(), 2)) + \n",
    "          \" Stdev: \" + str(round(scores.std(), 3)) +\n",
    "          \" [\" + label + \"]\")"
   ]
  },
  {
   "cell_type": "code",
   "execution_count": null,
   "id": "b4e3960a",
   "metadata": {},
   "outputs": [],
   "source": []
  }
 ],
 "metadata": {
  "kernelspec": {
   "display_name": "Python 3 (ipykernel)",
   "language": "python",
   "name": "python3"
  },
  "language_info": {
   "codemirror_mode": {
    "name": "ipython",
    "version": 3
   },
   "file_extension": ".py",
   "mimetype": "text/x-python",
   "name": "python",
   "nbconvert_exporter": "python",
   "pygments_lexer": "ipython3",
   "version": "3.9.12"
  }
 },
 "nbformat": 4,
 "nbformat_minor": 5
}
